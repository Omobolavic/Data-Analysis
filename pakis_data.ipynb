{
 "cells": [
  {
   "cell_type": "markdown",
   "metadata": {},
   "source": [
    "### DATA ANALYSIS OF PAKISTAN LARGEST ECOMMERCE DATASET"
   ]
  },
  {
   "cell_type": "code",
   "execution_count": 1,
   "metadata": {},
   "outputs": [],
   "source": [
    "# import python libraries\n",
    "import pandas as pd\n",
    "import numpy as np\n",
    "import matplotlib.pyplot as plt\n",
    "import seaborn as sns"
   ]
  },
  {
   "cell_type": "code",
   "execution_count": 2,
   "metadata": {},
   "outputs": [
    {
     "name": "stderr",
     "output_type": "stream",
     "text": [
      "c:\\Users\\OmotayoWaheed\\anaconda3\\lib\\site-packages\\IPython\\core\\interactiveshell.py:3444: DtypeWarning: Columns (7) have mixed types.Specify dtype option on import or set low_memory=False.\n",
      "  exec(code_obj, self.user_global_ns, self.user_ns)\n"
     ]
    },
    {
     "data": {
      "text/html": [
       "<div>\n",
       "<style scoped>\n",
       "    .dataframe tbody tr th:only-of-type {\n",
       "        vertical-align: middle;\n",
       "    }\n",
       "\n",
       "    .dataframe tbody tr th {\n",
       "        vertical-align: top;\n",
       "    }\n",
       "\n",
       "    .dataframe thead th {\n",
       "        text-align: right;\n",
       "    }\n",
       "</style>\n",
       "<table border=\"1\" class=\"dataframe\">\n",
       "  <thead>\n",
       "    <tr style=\"text-align: right;\">\n",
       "      <th></th>\n",
       "      <th>item_id</th>\n",
       "      <th>status</th>\n",
       "      <th>created_at</th>\n",
       "      <th>sku</th>\n",
       "      <th>price</th>\n",
       "      <th>qty_ordered</th>\n",
       "      <th>grand_total</th>\n",
       "      <th>increment_id</th>\n",
       "      <th>category_name_1</th>\n",
       "      <th>sales_commission_code</th>\n",
       "      <th>...</th>\n",
       "      <th>payment_method</th>\n",
       "      <th>Working Date</th>\n",
       "      <th>BI Status</th>\n",
       "      <th>MV</th>\n",
       "      <th>Year</th>\n",
       "      <th>Month</th>\n",
       "      <th>Customer Since</th>\n",
       "      <th>M-Y</th>\n",
       "      <th>FY</th>\n",
       "      <th>Customer ID</th>\n",
       "    </tr>\n",
       "  </thead>\n",
       "  <tbody>\n",
       "    <tr>\n",
       "      <th>0</th>\n",
       "      <td>211131</td>\n",
       "      <td>complete</td>\n",
       "      <td>07/01/2016</td>\n",
       "      <td>kreations_YI 06-L</td>\n",
       "      <td>1950.0</td>\n",
       "      <td>1</td>\n",
       "      <td>1950.0</td>\n",
       "      <td>100147443</td>\n",
       "      <td>Women's Fashion</td>\n",
       "      <td>\\N</td>\n",
       "      <td>...</td>\n",
       "      <td>cod</td>\n",
       "      <td>07/01/2016</td>\n",
       "      <td>#REF!</td>\n",
       "      <td>1,950</td>\n",
       "      <td>2016</td>\n",
       "      <td>7</td>\n",
       "      <td>2016-7</td>\n",
       "      <td>Jul-16</td>\n",
       "      <td>FY17</td>\n",
       "      <td>1.0</td>\n",
       "    </tr>\n",
       "    <tr>\n",
       "      <th>1</th>\n",
       "      <td>211133</td>\n",
       "      <td>canceled</td>\n",
       "      <td>07/01/2016</td>\n",
       "      <td>kcc_Buy 2 Frey Air Freshener &amp; Get 1 Kasual Bo...</td>\n",
       "      <td>240.0</td>\n",
       "      <td>1</td>\n",
       "      <td>240.0</td>\n",
       "      <td>100147444</td>\n",
       "      <td>Beauty &amp; Grooming</td>\n",
       "      <td>\\N</td>\n",
       "      <td>...</td>\n",
       "      <td>cod</td>\n",
       "      <td>07/01/2016</td>\n",
       "      <td>Gross</td>\n",
       "      <td>240</td>\n",
       "      <td>2016</td>\n",
       "      <td>7</td>\n",
       "      <td>2016-7</td>\n",
       "      <td>Jul-16</td>\n",
       "      <td>FY17</td>\n",
       "      <td>2.0</td>\n",
       "    </tr>\n",
       "  </tbody>\n",
       "</table>\n",
       "<p>2 rows × 21 columns</p>\n",
       "</div>"
      ],
      "text/plain": [
       "   item_id    status  created_at  \\\n",
       "0   211131  complete  07/01/2016   \n",
       "1   211133  canceled  07/01/2016   \n",
       "\n",
       "                                                 sku   price  qty_ordered  \\\n",
       "0                                  kreations_YI 06-L  1950.0            1   \n",
       "1  kcc_Buy 2 Frey Air Freshener & Get 1 Kasual Bo...   240.0            1   \n",
       "\n",
       "   grand_total increment_id    category_name_1 sales_commission_code  ...  \\\n",
       "0       1950.0    100147443    Women's Fashion                    \\N  ...   \n",
       "1        240.0    100147444  Beauty & Grooming                    \\N  ...   \n",
       "\n",
       "   payment_method Working Date BI Status    MV   Year  Month  Customer Since  \\\n",
       "0             cod   07/01/2016     #REF!  1,950  2016      7          2016-7   \n",
       "1             cod   07/01/2016     Gross    240  2016      7          2016-7   \n",
       "\n",
       "      M-Y    FY Customer ID  \n",
       "0  Jul-16  FY17         1.0  \n",
       "1  Jul-16  FY17         2.0  \n",
       "\n",
       "[2 rows x 21 columns]"
      ]
     },
     "execution_count": 2,
     "metadata": {},
     "output_type": "execute_result"
    }
   ],
   "source": [
    "Pakis_data = pd.read_csv(\"Pakistan Largest Ecommerce Dataset.csv\")       # import the ecommerce dataset\n",
    "Pakis_data.head(2)"
   ]
  },
  {
   "cell_type": "code",
   "execution_count": 3,
   "metadata": {},
   "outputs": [
    {
     "data": {
      "text/plain": [
       "(584524, 21)"
      ]
     },
     "execution_count": 3,
     "metadata": {},
     "output_type": "execute_result"
    }
   ],
   "source": [
    "Pakis_data.shape     # check the number of available rows and columns"
   ]
  },
  {
   "cell_type": "code",
   "execution_count": 4,
   "metadata": {},
   "outputs": [
    {
     "data": {
      "text/plain": [
       "Index(['item_id', 'status', 'created_at', 'sku', 'price', 'qty_ordered',\n",
       "       'grand_total', 'increment_id', 'category_name_1',\n",
       "       'sales_commission_code', 'discount_amount', 'payment_method',\n",
       "       'Working Date', 'BI Status', ' MV ', 'Year', 'Month', 'Customer Since',\n",
       "       'M-Y', 'FY', 'Customer ID'],\n",
       "      dtype='object')"
      ]
     },
     "execution_count": 4,
     "metadata": {},
     "output_type": "execute_result"
    }
   ],
   "source": [
    "Pakis_data.columns    # List the column names present in the data for better understanding"
   ]
  },
  {
   "cell_type": "code",
   "execution_count": 5,
   "metadata": {},
   "outputs": [
    {
     "name": "stdout",
     "output_type": "stream",
     "text": [
      "<class 'pandas.core.frame.DataFrame'>\n",
      "RangeIndex: 584524 entries, 0 to 584523\n",
      "Data columns (total 21 columns):\n",
      " #   Column                 Non-Null Count   Dtype  \n",
      "---  ------                 --------------   -----  \n",
      " 0   item_id                584524 non-null  int64  \n",
      " 1   status                 584509 non-null  object \n",
      " 2   created_at             584524 non-null  object \n",
      " 3   sku                    584504 non-null  object \n",
      " 4   price                  584524 non-null  float64\n",
      " 5   qty_ordered            584524 non-null  int64  \n",
      " 6   grand_total            584524 non-null  float64\n",
      " 7   increment_id           584524 non-null  object \n",
      " 8   category_name_1        584360 non-null  object \n",
      " 9   sales_commission_code  447349 non-null  object \n",
      " 10  discount_amount        584524 non-null  float64\n",
      " 11  payment_method         584524 non-null  object \n",
      " 12  Working Date           584524 non-null  object \n",
      " 13  BI Status              584524 non-null  object \n",
      " 14   MV                    584524 non-null  object \n",
      " 15  Year                   584524 non-null  int64  \n",
      " 16  Month                  584524 non-null  int64  \n",
      " 17  Customer Since         584513 non-null  object \n",
      " 18  M-Y                    584524 non-null  object \n",
      " 19  FY                     584524 non-null  object \n",
      " 20  Customer ID            584513 non-null  float64\n",
      "dtypes: float64(4), int64(4), object(13)\n",
      "memory usage: 93.7+ MB\n"
     ]
    }
   ],
   "source": [
    "Pakis_data.info()      # check the information about the data"
   ]
  },
  {
   "cell_type": "code",
   "execution_count": 6,
   "metadata": {},
   "outputs": [
    {
     "data": {
      "text/plain": [
       "Index(['item_id', 'status', 'created_at', 'sku', 'price', 'qty_ordered',\n",
       "       'grand_total', 'increment_id', 'Category', 'sales_commission_code',\n",
       "       'discount_amount', 'payment_method', 'Working Date', 'BI Status', 'MV',\n",
       "       'Year', 'Month', 'Customer Since', 'M-Y', 'FY', 'Customer ID'],\n",
       "      dtype='object')"
      ]
     },
     "execution_count": 6,
     "metadata": {},
     "output_type": "execute_result"
    }
   ],
   "source": [
    "Pakis_data.rename(columns={' MV ':'MV'},inplace=True)                   #rename columns for better analysis and understanding\n",
    "Pakis_data.rename(columns={'category_name_1':'Category'},inplace=True)    \n",
    "Pakis_data.columns"
   ]
  },
  {
   "cell_type": "code",
   "execution_count": 7,
   "metadata": {},
   "outputs": [
    {
     "data": {
      "text/plain": [
       "item_id                   0.000000\n",
       "status                    0.002566\n",
       "created_at                0.000000\n",
       "sku                       0.003422\n",
       "price                     0.000000\n",
       "qty_ordered               0.000000\n",
       "grand_total               0.000000\n",
       "increment_id              0.000000\n",
       "Category                  0.028057\n",
       "sales_commission_code    23.467813\n",
       "discount_amount           0.000000\n",
       "payment_method            0.000000\n",
       "Working Date              0.000000\n",
       "BI Status                 0.000000\n",
       "MV                        0.000000\n",
       "Year                      0.000000\n",
       "Month                     0.000000\n",
       "Customer Since            0.001882\n",
       "M-Y                       0.000000\n",
       "FY                        0.000000\n",
       "Customer ID               0.001882\n",
       "dtype: float64"
      ]
     },
     "execution_count": 7,
     "metadata": {},
     "output_type": "execute_result"
    }
   ],
   "source": [
    "null_percentage = Pakis_data.isna().sum()*100/len(Pakis_data)    #  percentage of empty values in each column\n",
    "null_percentage"
   ]
  },
  {
   "cell_type": "code",
   "execution_count": 8,
   "metadata": {},
   "outputs": [
    {
     "data": {
      "text/plain": [
       "item_id                       0\n",
       "status                       15\n",
       "created_at                    0\n",
       "sku                          20\n",
       "price                         0\n",
       "qty_ordered                   0\n",
       "grand_total                   0\n",
       "increment_id                  0\n",
       "Category                    164\n",
       "sales_commission_code    137175\n",
       "discount_amount               0\n",
       "payment_method                0\n",
       "Working Date                  0\n",
       "BI Status                     0\n",
       "MV                            0\n",
       "Year                          0\n",
       "Month                         0\n",
       "Customer Since               11\n",
       "M-Y                           0\n",
       "FY                            0\n",
       "Customer ID                  11\n",
       "dtype: int64"
      ]
     },
     "execution_count": 8,
     "metadata": {},
     "output_type": "execute_result"
    }
   ],
   "source": [
    "Pakis_data.isnull().sum()              #  Count of null values per column"
   ]
  },
  {
   "cell_type": "code",
   "execution_count": 9,
   "metadata": {},
   "outputs": [],
   "source": [
    "# Fill null values \n",
    "Pakis_data['sales_commission_code'].fillna(Pakis_data['sales_commission_code'].mode,inplace =True)\n",
    "Pakis_data['Category'].fillna(Pakis_data['Category'].mode,inplace =True)\n",
    "Pakis_data['status'] = Pakis_data['status'].fillna('not_available')"
   ]
  },
  {
   "cell_type": "code",
   "execution_count": 10,
   "metadata": {},
   "outputs": [
    {
     "data": {
      "text/html": [
       "<div>\n",
       "<style scoped>\n",
       "    .dataframe tbody tr th:only-of-type {\n",
       "        vertical-align: middle;\n",
       "    }\n",
       "\n",
       "    .dataframe tbody tr th {\n",
       "        vertical-align: top;\n",
       "    }\n",
       "\n",
       "    .dataframe thead th {\n",
       "        text-align: right;\n",
       "    }\n",
       "</style>\n",
       "<table border=\"1\" class=\"dataframe\">\n",
       "  <thead>\n",
       "    <tr style=\"text-align: right;\">\n",
       "      <th></th>\n",
       "      <th>item_id</th>\n",
       "      <th>price</th>\n",
       "      <th>qty_ordered</th>\n",
       "      <th>grand_total</th>\n",
       "      <th>discount_amount</th>\n",
       "      <th>Year</th>\n",
       "      <th>Month</th>\n",
       "      <th>Customer ID</th>\n",
       "    </tr>\n",
       "  </thead>\n",
       "  <tbody>\n",
       "    <tr>\n",
       "      <th>count</th>\n",
       "      <td>584524.000000</td>\n",
       "      <td>5.845240e+05</td>\n",
       "      <td>584524.000000</td>\n",
       "      <td>5.845240e+05</td>\n",
       "      <td>584524.000000</td>\n",
       "      <td>584524.000000</td>\n",
       "      <td>584524.000000</td>\n",
       "      <td>584513.000000</td>\n",
       "    </tr>\n",
       "    <tr>\n",
       "      <th>mean</th>\n",
       "      <td>565667.074218</td>\n",
       "      <td>6.348748e+03</td>\n",
       "      <td>1.296388</td>\n",
       "      <td>8.530619e+03</td>\n",
       "      <td>499.492775</td>\n",
       "      <td>2017.044115</td>\n",
       "      <td>7.167654</td>\n",
       "      <td>45790.511965</td>\n",
       "    </tr>\n",
       "    <tr>\n",
       "      <th>std</th>\n",
       "      <td>200121.173648</td>\n",
       "      <td>1.494927e+04</td>\n",
       "      <td>3.996061</td>\n",
       "      <td>6.132081e+04</td>\n",
       "      <td>1506.943046</td>\n",
       "      <td>0.707355</td>\n",
       "      <td>3.486305</td>\n",
       "      <td>34414.962389</td>\n",
       "    </tr>\n",
       "    <tr>\n",
       "      <th>min</th>\n",
       "      <td>211131.000000</td>\n",
       "      <td>0.000000e+00</td>\n",
       "      <td>1.000000</td>\n",
       "      <td>-1.594000e+03</td>\n",
       "      <td>-599.500000</td>\n",
       "      <td>2016.000000</td>\n",
       "      <td>1.000000</td>\n",
       "      <td>1.000000</td>\n",
       "    </tr>\n",
       "    <tr>\n",
       "      <th>25%</th>\n",
       "      <td>395000.750000</td>\n",
       "      <td>3.600000e+02</td>\n",
       "      <td>1.000000</td>\n",
       "      <td>9.450000e+02</td>\n",
       "      <td>0.000000</td>\n",
       "      <td>2017.000000</td>\n",
       "      <td>4.000000</td>\n",
       "      <td>13516.000000</td>\n",
       "    </tr>\n",
       "    <tr>\n",
       "      <th>50%</th>\n",
       "      <td>568424.500000</td>\n",
       "      <td>8.990000e+02</td>\n",
       "      <td>1.000000</td>\n",
       "      <td>1.960400e+03</td>\n",
       "      <td>0.000000</td>\n",
       "      <td>2017.000000</td>\n",
       "      <td>7.000000</td>\n",
       "      <td>42856.000000</td>\n",
       "    </tr>\n",
       "    <tr>\n",
       "      <th>75%</th>\n",
       "      <td>739106.250000</td>\n",
       "      <td>4.070000e+03</td>\n",
       "      <td>1.000000</td>\n",
       "      <td>6.999000e+03</td>\n",
       "      <td>160.500000</td>\n",
       "      <td>2018.000000</td>\n",
       "      <td>11.000000</td>\n",
       "      <td>73536.000000</td>\n",
       "    </tr>\n",
       "    <tr>\n",
       "      <th>max</th>\n",
       "      <td>905208.000000</td>\n",
       "      <td>1.012626e+06</td>\n",
       "      <td>1000.000000</td>\n",
       "      <td>1.788800e+07</td>\n",
       "      <td>90300.000000</td>\n",
       "      <td>2018.000000</td>\n",
       "      <td>12.000000</td>\n",
       "      <td>115326.000000</td>\n",
       "    </tr>\n",
       "  </tbody>\n",
       "</table>\n",
       "</div>"
      ],
      "text/plain": [
       "             item_id         price    qty_ordered   grand_total  \\\n",
       "count  584524.000000  5.845240e+05  584524.000000  5.845240e+05   \n",
       "mean   565667.074218  6.348748e+03       1.296388  8.530619e+03   \n",
       "std    200121.173648  1.494927e+04       3.996061  6.132081e+04   \n",
       "min    211131.000000  0.000000e+00       1.000000 -1.594000e+03   \n",
       "25%    395000.750000  3.600000e+02       1.000000  9.450000e+02   \n",
       "50%    568424.500000  8.990000e+02       1.000000  1.960400e+03   \n",
       "75%    739106.250000  4.070000e+03       1.000000  6.999000e+03   \n",
       "max    905208.000000  1.012626e+06    1000.000000  1.788800e+07   \n",
       "\n",
       "       discount_amount           Year          Month    Customer ID  \n",
       "count    584524.000000  584524.000000  584524.000000  584513.000000  \n",
       "mean        499.492775    2017.044115       7.167654   45790.511965  \n",
       "std        1506.943046       0.707355       3.486305   34414.962389  \n",
       "min        -599.500000    2016.000000       1.000000       1.000000  \n",
       "25%           0.000000    2017.000000       4.000000   13516.000000  \n",
       "50%           0.000000    2017.000000       7.000000   42856.000000  \n",
       "75%         160.500000    2018.000000      11.000000   73536.000000  \n",
       "max       90300.000000    2018.000000      12.000000  115326.000000  "
      ]
     },
     "execution_count": 10,
     "metadata": {},
     "output_type": "execute_result"
    }
   ],
   "source": [
    "# Describe the data\n",
    "Pakis_data.describe()"
   ]
  },
  {
   "cell_type": "code",
   "execution_count": 11,
   "metadata": {},
   "outputs": [
    {
     "name": "stdout",
     "output_type": "stream",
     "text": [
      "0\n"
     ]
    }
   ],
   "source": [
    "# check for duplicates\n",
    "print(Pakis_data.duplicated().sum()) # Check for duplicates"
   ]
  },
  {
   "cell_type": "code",
   "execution_count": 12,
   "metadata": {},
   "outputs": [
    {
     "name": "stdout",
     "output_type": "stream",
     "text": [
      "<class 'pandas.core.frame.DataFrame'>\n",
      "RangeIndex: 584524 entries, 0 to 584523\n",
      "Data columns (total 21 columns):\n",
      " #   Column                 Non-Null Count   Dtype         \n",
      "---  ------                 --------------   -----         \n",
      " 0   item_id                584524 non-null  int64         \n",
      " 1   status                 584524 non-null  object        \n",
      " 2   created_at             584524 non-null  datetime64[ns]\n",
      " 3   sku                    584504 non-null  object        \n",
      " 4   price                  584524 non-null  float64       \n",
      " 5   qty_ordered            584524 non-null  int64         \n",
      " 6   grand_total            584524 non-null  float64       \n",
      " 7   increment_id           584524 non-null  object        \n",
      " 8   Category               584524 non-null  object        \n",
      " 9   sales_commission_code  584524 non-null  object        \n",
      " 10  discount_amount        584524 non-null  float64       \n",
      " 11  payment_method         584524 non-null  object        \n",
      " 12  Working Date           584524 non-null  object        \n",
      " 13  BI Status              584524 non-null  object        \n",
      " 14  MV                     584524 non-null  object        \n",
      " 15  Year                   584524 non-null  int64         \n",
      " 16  Month                  584524 non-null  int64         \n",
      " 17  Customer Since         584513 non-null  object        \n",
      " 18  M-Y                    584524 non-null  object        \n",
      " 19  FY                     584524 non-null  object        \n",
      " 20  Customer ID            584524 non-null  object        \n",
      "dtypes: datetime64[ns](1), float64(3), int64(4), object(13)\n",
      "memory usage: 93.7+ MB\n"
     ]
    }
   ],
   "source": [
    "# correct the necessary columns datatypes\n",
    "import datetime\n",
    "Pakis_data['created_at']= pd.to_datetime(Pakis_data['created_at'])\n",
    "Pakis_data['Customer ID']=Pakis_data['Customer ID'].astype(str)\n",
    "Pakis_data.info()"
   ]
  },
  {
   "cell_type": "code",
   "execution_count": 13,
   "metadata": {},
   "outputs": [
    {
     "name": "stdout",
     "output_type": "stream",
     "text": [
      "The unique payment methods are ['cod' 'ublcreditcard' 'mygateway' 'customercredit' 'cashatdoorstep'\n",
      " 'mcblite' 'internetbanking' 'marketingexpense' 'productcredit'\n",
      " 'financesettlement' 'Payaxis' 'jazzvoucher' 'jazzwallet' 'Easypay'\n",
      " 'Easypay_MA' 'easypay_voucher' 'bankalfalah' 'apg']\n",
      "The Purchase Years are [2016 2017 2018]\n",
      "The order status are ['complete' 'canceled' 'order_refunded' 'received' 'refund' 'closed'\n",
      " 'fraud' 'holded' 'exchange' 'pending_paypal' 'paid' '\\\\N' 'cod' 'pending'\n",
      " 'not_available' 'processing' 'payment_review']\n"
     ]
    }
   ],
   "source": [
    "# check for unique column values of the payment method columns\n",
    "print(\"The unique payment methods are {}\".format(Pakis_data.payment_method.unique()))\n",
    "print(\"The Purchase Years are {}\".format(Pakis_data.Year.unique()))\n",
    "print(\"The order status are {}\".format(Pakis_data.status.unique()))"
   ]
  },
  {
   "cell_type": "code",
   "execution_count": 14,
   "metadata": {},
   "outputs": [],
   "source": [
    " # replace duplicates and streamline to specifics in the payment method column.\n",
    "payment_to_replace = {'cashatdoorstep': 'cod', 'Easypay_MA':'Easypay', 'easypay_voucher':'Easypay','jazzvoucher':'jazzwallet','internetbanking':'Payaxis','mygateway':'Payaxis','marketingexpense':'Payaxis'} \n",
    "Pakis_data =Pakis_data.replace({\"payment_method\": payment_to_replace})  "
   ]
  },
  {
   "cell_type": "code",
   "execution_count": 15,
   "metadata": {},
   "outputs": [],
   "source": [
    " # replace duplicates and streamline to specifics in the status column.\n",
    "status_to_replace = {'cod': 'complete', 'order_refunded':'refund', 'received':'complete','\\\\N':'not_available','closed':'complete','pending_paypal':'pending','paid':'complete','processing':'pending','payment_review':'pending'} \n",
    "Pakis_data =Pakis_data.replace({\"status\": status_to_replace})  "
   ]
  },
  {
   "cell_type": "code",
   "execution_count": 16,
   "metadata": {},
   "outputs": [
    {
     "data": {
      "text/plain": [
       "array(['complete', 'canceled', 'refund', 'fraud', 'holded', 'exchange',\n",
       "       'pending', 'not_available'], dtype=object)"
      ]
     },
     "execution_count": 16,
     "metadata": {},
     "output_type": "execute_result"
    }
   ],
   "source": [
    "Pakis_data['status'].unique()"
   ]
  },
  {
   "cell_type": "markdown",
   "metadata": {},
   "source": [
    "### EXPLORATORY DATA ANALYSIS"
   ]
  },
  {
   "cell_type": "code",
   "execution_count": 17,
   "metadata": {},
   "outputs": [
    {
     "data": {
      "text/plain": [
       "array([[<AxesSubplot:title={'center':'item_id'}>,\n",
       "        <AxesSubplot:title={'center':'created_at'}>,\n",
       "        <AxesSubplot:title={'center':'price'}>],\n",
       "       [<AxesSubplot:title={'center':'qty_ordered'}>,\n",
       "        <AxesSubplot:title={'center':'grand_total'}>,\n",
       "        <AxesSubplot:title={'center':'discount_amount'}>],\n",
       "       [<AxesSubplot:title={'center':'Year'}>,\n",
       "        <AxesSubplot:title={'center':'Month'}>, <AxesSubplot:>]],\n",
       "      dtype=object)"
      ]
     },
     "execution_count": 17,
     "metadata": {},
     "output_type": "execute_result"
    },
    {
     "data": {
      "image/png": "[encoded data removed]",
      "text/plain": [
       "<Figure size 1440x720 with 9 Axes>"
      ]
     },
     "metadata": {
      "needs_background": "light"
     },
     "output_type": "display_data"
    }
   ],
   "source": [
    "#plot a hist on our dataset\n",
    "Pakis_data.hist(bins=60, figsize=(20,10))"
   ]
  },
  {
   "cell_type": "code",
   "execution_count": 18,
   "metadata": {},
   "outputs": [
    {
     "name": "stdout",
     "output_type": "stream",
     "text": [
      "             Category   count\n",
      "10  Mobiles & Tablets  115710\n",
      "9       Men's Fashion   92221\n",
      "15    Women's Fashion   59721\n",
      "1          Appliances   52413\n",
      "14         Superstore   43613\n",
      "2   Beauty & Grooming   41496\n",
      "13            Soghaat   34011\n",
      "11             Others   29218\n",
      "7       Home & Living   26504\n",
      "5       Entertainment   26326\n"
     ]
    }
   ],
   "source": [
    "# Get the top 10 category of Items sold\n",
    "Top10Category=Pakis_data.groupby('Category')['item_id'].agg(['count']).reset_index().sort_values(by='count',ascending=False).head(10)\n",
    "print(Top10Category)"
   ]
  },
  {
   "cell_type": "markdown",
   "metadata": {},
   "source": [
    "Result: The most purchased category of item is Mobiles & Tablets"
   ]
  },
  {
   "cell_type": "code",
   "execution_count": 19,
   "metadata": {},
   "outputs": [
    {
     "data": {
      "image/png": "[encoded data removed]",
      "text/plain": [
       "<Figure size 1080x360 with 1 Axes>"
      ]
     },
     "metadata": {
      "needs_background": "light"
     },
     "output_type": "display_data"
    }
   ],
   "source": [
    "Category=Pakis_data.groupby('Category')['item_id'].agg(['count']).reset_index().sort_values(by='count',ascending=False).head(10)\n",
    "plt.figure(figsize=(15,5))\n",
    "graph=sns.barplot(x='Category',y='count',data=Category)\n",
    "graph.set_title('Category Rank')\n",
    "plt.show()"
   ]
  },
  {
   "cell_type": "code",
   "execution_count": 20,
   "metadata": {},
   "outputs": [
    {
     "data": {
      "text/html": [
       "<div>\n",
       "<style scoped>\n",
       "    .dataframe tbody tr th:only-of-type {\n",
       "        vertical-align: middle;\n",
       "    }\n",
       "\n",
       "    .dataframe tbody tr th {\n",
       "        vertical-align: top;\n",
       "    }\n",
       "\n",
       "    .dataframe thead th {\n",
       "        text-align: right;\n",
       "    }\n",
       "</style>\n",
       "<table border=\"1\" class=\"dataframe\">\n",
       "  <thead>\n",
       "    <tr style=\"text-align: right;\">\n",
       "      <th></th>\n",
       "      <th>Year</th>\n",
       "      <th>sum</th>\n",
       "    </tr>\n",
       "  </thead>\n",
       "  <tbody>\n",
       "    <tr>\n",
       "      <th>1</th>\n",
       "      <td>2017</td>\n",
       "      <td>2.247266e+09</td>\n",
       "    </tr>\n",
       "    <tr>\n",
       "      <th>2</th>\n",
       "      <td>2018</td>\n",
       "      <td>2.093500e+09</td>\n",
       "    </tr>\n",
       "    <tr>\n",
       "      <th>0</th>\n",
       "      <td>2016</td>\n",
       "      <td>6.455853e+08</td>\n",
       "    </tr>\n",
       "  </tbody>\n",
       "</table>\n",
       "</div>"
      ],
      "text/plain": [
       "   Year           sum\n",
       "1  2017  2.247266e+09\n",
       "2  2018  2.093500e+09\n",
       "0  2016  6.455853e+08"
      ]
     },
     "execution_count": 20,
     "metadata": {},
     "output_type": "execute_result"
    }
   ],
   "source": [
    "# Get the year with the highest sales\n",
    "Year_highest_sales=Pakis_data.groupby('Year')['grand_total'].agg(['sum']).reset_index().sort_values(by='sum',ascending=False).head()\n",
    "Year_highest_sales"
   ]
  },
  {
   "cell_type": "markdown",
   "metadata": {},
   "source": [
    "Result: The ecommerce business recorded the highest sales in the year 2017"
   ]
  },
  {
   "cell_type": "code",
   "execution_count": 21,
   "metadata": {},
   "outputs": [
    {
     "name": "stdout",
     "output_type": "stream",
     "text": [
      "291965514.9272999\n",
      "757770\n",
      "3710995301.8300004\n"
     ]
    }
   ],
   "source": [
    "print(Pakis_data['discount_amount'].sum())\n",
    "print(Pakis_data['qty_ordered'].sum())\n",
    "print(Pakis_data['price'].sum())"
   ]
  },
  {
   "cell_type": "code",
   "execution_count": 22,
   "metadata": {},
   "outputs": [
    {
     "name": "stdout",
     "output_type": "stream",
     "text": [
      "          status   count\n",
      "1       complete  315487\n",
      "0       canceled  201249\n",
      "7         refund   67579\n",
      "6        pending     145\n",
      "4         holded      31\n",
      "5  not_available      19\n",
      "3          fraud      10\n",
      "2       exchange       4\n"
     ]
    }
   ],
   "source": [
    "# get the count of order status\n",
    "orderstatus = Pakis_data.groupby('status')['item_id'].agg(['count']).reset_index().sort_values(by='count',ascending=False)\n",
    "print(orderstatus)"
   ]
  },
  {
   "cell_type": "markdown",
   "metadata": {},
   "source": [
    "Result: There are more completed order in the dataset but quite significant number of orders were canceled"
   ]
  },
  {
   "cell_type": "code",
   "execution_count": 23,
   "metadata": {},
   "outputs": [
    {
     "data": {
      "image/png": "[encoded data removed]",
      "text/plain": [
       "<Figure size 1296x720 with 1 Axes>"
      ]
     },
     "metadata": {
      "needs_background": "light"
     },
     "output_type": "display_data"
    }
   ],
   "source": [
    "plt.figure(figsize=(18,10))\n",
    "graph=sns.barplot(x='status',y='count',data=orderstatus)\n",
    "graph.set_title('Order Status')\n",
    "plt.show()"
   ]
  },
  {
   "cell_type": "code",
   "execution_count": 24,
   "metadata": {},
   "outputs": [
    {
     "name": "stdout",
     "output_type": "stream",
     "text": [
      "    payment_method   count\n",
      "4              cod  272692\n",
      "0          Easypay  128104\n",
      "1          Payaxis   98827\n",
      "7       jazzwallet   50778\n",
      "3      bankalfalah   23065\n",
      "5   customercredit    7555\n",
      "2              apg    1758\n",
      "10   ublcreditcard     882\n",
      "8          mcblite     723\n",
      "9    productcredit     125\n"
     ]
    }
   ],
   "source": [
    "# Most used payment method\n",
    "paymethod=Pakis_data.groupby('payment_method')['item_id'].agg(['count']).reset_index().sort_values(by='count',ascending=False).head(10)\n",
    "print(paymethod)"
   ]
  },
  {
   "cell_type": "markdown",
   "metadata": {},
   "source": [
    "Result: The most used payment method is Cash on delivery"
   ]
  },
  {
   "cell_type": "code",
   "execution_count": 25,
   "metadata": {},
   "outputs": [
    {
     "data": {
      "image/png": "[encoded data removed]",
      "text/plain": [
       "<Figure size 1080x360 with 1 Axes>"
      ]
     },
     "metadata": {
      "needs_background": "light"
     },
     "output_type": "display_data"
    }
   ],
   "source": [
    "# Visualization of the most used payment method\n",
    "plt.figure(figsize=(15,5))\n",
    "graph=sns.barplot(x='payment_method',y='count',data=paymethod)\n",
    "graph.set_title('Top 10 Payment Method')\n",
    "plt.show()"
   ]
  },
  {
   "cell_type": "code",
   "execution_count": 26,
   "metadata": {},
   "outputs": [
    {
     "data": {
      "text/html": [
       "<div>\n",
       "<style scoped>\n",
       "    .dataframe tbody tr th:only-of-type {\n",
       "        vertical-align: middle;\n",
       "    }\n",
       "\n",
       "    .dataframe tbody tr th {\n",
       "        vertical-align: top;\n",
       "    }\n",
       "\n",
       "    .dataframe thead th {\n",
       "        text-align: right;\n",
       "    }\n",
       "</style>\n",
       "<table border=\"1\" class=\"dataframe\">\n",
       "  <thead>\n",
       "    <tr style=\"text-align: right;\">\n",
       "      <th></th>\n",
       "      <th>item_id</th>\n",
       "      <th>price</th>\n",
       "      <th>qty_ordered</th>\n",
       "      <th>grand_total</th>\n",
       "      <th>discount_amount</th>\n",
       "      <th>Year</th>\n",
       "      <th>Month</th>\n",
       "    </tr>\n",
       "  </thead>\n",
       "  <tbody>\n",
       "    <tr>\n",
       "      <th>item_id</th>\n",
       "      <td>1.000000</td>\n",
       "      <td>0.141596</td>\n",
       "      <td>0.033381</td>\n",
       "      <td>0.049265</td>\n",
       "      <td>0.136515</td>\n",
       "      <td>0.920564</td>\n",
       "      <td>-0.292860</td>\n",
       "    </tr>\n",
       "    <tr>\n",
       "      <th>price</th>\n",
       "      <td>0.141596</td>\n",
       "      <td>1.000000</td>\n",
       "      <td>-0.017629</td>\n",
       "      <td>0.277607</td>\n",
       "      <td>0.455578</td>\n",
       "      <td>0.129052</td>\n",
       "      <td>-0.034473</td>\n",
       "    </tr>\n",
       "    <tr>\n",
       "      <th>qty_ordered</th>\n",
       "      <td>0.033381</td>\n",
       "      <td>-0.017629</td>\n",
       "      <td>1.000000</td>\n",
       "      <td>0.753487</td>\n",
       "      <td>-0.007621</td>\n",
       "      <td>0.039236</td>\n",
       "      <td>-0.033652</td>\n",
       "    </tr>\n",
       "    <tr>\n",
       "      <th>grand_total</th>\n",
       "      <td>0.049265</td>\n",
       "      <td>0.277607</td>\n",
       "      <td>0.753487</td>\n",
       "      <td>1.000000</td>\n",
       "      <td>0.104825</td>\n",
       "      <td>0.048432</td>\n",
       "      <td>-0.020887</td>\n",
       "    </tr>\n",
       "    <tr>\n",
       "      <th>discount_amount</th>\n",
       "      <td>0.136515</td>\n",
       "      <td>0.455578</td>\n",
       "      <td>-0.007621</td>\n",
       "      <td>0.104825</td>\n",
       "      <td>1.000000</td>\n",
       "      <td>0.116063</td>\n",
       "      <td>-0.013386</td>\n",
       "    </tr>\n",
       "    <tr>\n",
       "      <th>Year</th>\n",
       "      <td>0.920564</td>\n",
       "      <td>0.129052</td>\n",
       "      <td>0.039236</td>\n",
       "      <td>0.048432</td>\n",
       "      <td>0.116063</td>\n",
       "      <td>1.000000</td>\n",
       "      <td>-0.634711</td>\n",
       "    </tr>\n",
       "    <tr>\n",
       "      <th>Month</th>\n",
       "      <td>-0.292860</td>\n",
       "      <td>-0.034473</td>\n",
       "      <td>-0.033652</td>\n",
       "      <td>-0.020887</td>\n",
       "      <td>-0.013386</td>\n",
       "      <td>-0.634711</td>\n",
       "      <td>1.000000</td>\n",
       "    </tr>\n",
       "  </tbody>\n",
       "</table>\n",
       "</div>"
      ],
      "text/plain": [
       "                  item_id     price  qty_ordered  grand_total  \\\n",
       "item_id          1.000000  0.141596     0.033381     0.049265   \n",
       "price            0.141596  1.000000    -0.017629     0.277607   \n",
       "qty_ordered      0.033381 -0.017629     1.000000     0.753487   \n",
       "grand_total      0.049265  0.277607     0.753487     1.000000   \n",
       "discount_amount  0.136515  0.455578    -0.007621     0.104825   \n",
       "Year             0.920564  0.129052     0.039236     0.048432   \n",
       "Month           -0.292860 -0.034473    -0.033652    -0.020887   \n",
       "\n",
       "                 discount_amount      Year     Month  \n",
       "item_id                 0.136515  0.920564 -0.292860  \n",
       "price                   0.455578  0.129052 -0.034473  \n",
       "qty_ordered            -0.007621  0.039236 -0.033652  \n",
       "grand_total             0.104825  0.048432 -0.020887  \n",
       "discount_amount         1.000000  0.116063 -0.013386  \n",
       "Year                    0.116063  1.000000 -0.634711  \n",
       "Month                  -0.013386 -0.634711  1.000000  "
      ]
     },
     "execution_count": 26,
     "metadata": {},
     "output_type": "execute_result"
    }
   ],
   "source": [
    "#Find the correlation between the numerical variables in the data\n",
    "Pakis_data.corr()"
   ]
  }
 ],
 "metadata": {
  "kernelspec": {
   "display_name": "Python 3.9.7 ('base')",
   "language": "python",
   "name": "python3"
  },
  "language_info": {
   "codemirror_mode": {
    "name": "ipython",
    "version": 3
   },
   "file_extension": ".py",
   "mimetype": "text/x-python",
   "name": "python",
   "nbconvert_exporter": "python",
   "pygments_lexer": "ipython3",
   "version": "3.9.7"
  },
  "orig_nbformat": 4,
  "vscode": {
   "interpreter": {
    "hash": "aed3758e4af8254fd2319057cd7f0544300efa4acd5b5f9f114a113574697992"
   }
  }
 },
 "nbformat": 4,
 "nbformat_minor": 2
}
